{
 "cells": [
  {
   "cell_type": "markdown",
   "id": "1c769f4c",
   "metadata": {},
   "source": [
    "# Introduction\n",
    "\n",
    "This notebook contains some simple examples and best practices to start using *Jupyter Notebook* and *Python3*"
   ]
  },
  {
   "cell_type": "markdown",
   "id": "e5f6917b",
   "metadata": {},
   "source": [
    "## Getting started \n"
   ]
  },
  {
   "cell_type": "code",
   "execution_count": null,
   "id": "be61dcb5",
   "metadata": {},
   "outputs": [],
   "source": [
    "## A best practice is to set up a virtual environment on your machine \n",
    "## and install all the resources needed for your Python project on that virtual environment\n",
    "\n",
    "## 1- Install the latest version of Anaconda on your computer\n",
    "## 2- After the installation is complete, you can open the conda prompt and create a new environment using these command\n",
    "# conda create -n testenv  python=3.10                      ## creates new virtual env with a specif version of python\n",
    "# conda activate testenv                                    ## activate environment in terminal\n",
    "# conda install jupyter                                     ## install Jupyter in new conda env"
   ]
  },
  {
   "cell_type": "code",
   "execution_count": null,
   "id": "7f5e4ace",
   "metadata": {},
   "outputs": [],
   "source": [
    "## 3- Make sure to install all the libraries you will use in your project, some examples are\n",
    "# conda install pandas                                      ## install pandas library in new conda env\n",
    "# conda install numpy                                       ## install numpy library in new conda env\n",
    "# conda install sklearn                                     ## install scikit-learn library in new conda env\n",
    "\n",
    "## 4- Install a python kernel in the new environment you created (a kernel is responsible for executing the code)\n",
    "# conda install ipykernel                                   ## install Python kernel in new conda env\n",
    "# ipython kernel install --user --name=testenv-kernel       ## configure Jupyter to use Python kernel\n",
    "\n",
    "## 5- When you have installed all the necessary packages for your project as well as the kernel, you can deactivate the environment or close the conda promt.\n"
   ]
  },
  {
   "cell_type": "code",
   "execution_count": null,
   "id": "84ab9560",
   "metadata": {},
   "outputs": [],
   "source": [
    "## 6- When you are ready to work, open the conda prompt and enter the following command\n",
    "\n",
    "# conda activate testenv                                    # activate your virtual environment in terminal\n",
    "# jupyter notebook                                          # open Jupyter notebook on a web page \n",
    "\n",
    "## 7- You can start working on your Jupiter Notebook. Happy ML experimentation!"
   ]
  },
  {
   "cell_type": "markdown",
   "id": "fcbdad87",
   "metadata": {},
   "source": [
    "## Example 1: Simple *Hello, World*"
   ]
  },
  {
   "cell_type": "code",
   "execution_count": 1,
   "id": "7bb5e479",
   "metadata": {},
   "outputs": [
    {
     "name": "stdout",
     "output_type": "stream",
     "text": [
      "Hello, Bonam\n",
      "\n"
     ]
    }
   ],
   "source": [
    "my_name = \"Bonam\"\n",
    "hello_statement = \"Hello, \" + my_name\n",
    "print (hello_statement, end=\"\\n\\n\")\n",
    "x= 10"
   ]
  },
  {
   "cell_type": "markdown",
   "id": "dc8d7fe2",
   "metadata": {},
   "source": [
    "## Example 2: World's *best* loop is here"
   ]
  },
  {
   "cell_type": "code",
   "execution_count": 2,
   "id": "b634ea0b",
   "metadata": {},
   "outputs": [
    {
     "name": "stdout",
     "output_type": "stream",
     "text": [
      "j=1  x=11\n",
      "j=2  x=13\n",
      "j=3  x=16\n",
      "j=4  x=20\n"
     ]
    }
   ],
   "source": [
    "for j in range (1, 5):\n",
    "    x = x + j\n",
    "    print(\"j={0}  x={1}\".format(j, x))"
   ]
  },
  {
   "cell_type": "code",
   "execution_count": null,
   "id": "749a1a97",
   "metadata": {},
   "outputs": [],
   "source": []
  }
 ],
 "metadata": {
  "kernelspec": {
   "display_name": "Python 3 (ipykernel)",
   "language": "python",
   "name": "python3"
  },
  "language_info": {
   "codemirror_mode": {
    "name": "ipython",
    "version": 3
   },
   "file_extension": ".py",
   "mimetype": "text/x-python",
   "name": "python",
   "nbconvert_exporter": "python",
   "pygments_lexer": "ipython3",
   "version": "3.9.13"
  }
 },
 "nbformat": 4,
 "nbformat_minor": 5
}
